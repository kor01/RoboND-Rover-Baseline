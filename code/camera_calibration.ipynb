{
 "cells": [
  {
   "cell_type": "code",
   "execution_count": 1,
   "metadata": {
    "collapsed": true
   },
   "outputs": [],
   "source": [
    "import numpy as np\n",
    "import tensorflow as tf"
   ]
  },
  {
   "cell_type": "code",
   "execution_count": 2,
   "metadata": {
    "collapsed": true
   },
   "outputs": [],
   "source": [
    "# unit meter, the square in front of camera view, the robot origin offset is set as 0.6m\n",
    "source = np.array([[0, 0.5], [1, 0.5], [1, -0.5], [0, -0.5]], dtype=np.float64)\n",
    "source = source.transpose()\n",
    "\n",
    "# image pixel target\n",
    "target = np.array([[14.32 , 140.71], [ 120.78, 95.5], [199.49 ,96.84], [302.7 ,140.71]], dtype=np.float64)\n",
    "\n",
    "# transform to camera coordinate, not scaled yet\n",
    "target = np.array([160 - target[:, 1], target[:, 0]])\n",
    "\n",
    "# estimated scale factor for sensor"
   ]
  },
  {
   "cell_type": "code",
   "execution_count": 3,
   "metadata": {
    "scrolled": false
   },
   "outputs": [],
   "source": [
    "T = tf.constant(target)\n",
    "S = tf.constant(source)\n",
    "\n",
    "CameraOffset = tf.constant(0.6, dtype=tf.float64)\n",
    "S = tf.stack([S[0, :] + CameraOffset, S[1, :]])\n",
    "\n",
    "ScaleFactor = tf.constant(2000.0, dtype=tf.float64)\n",
    "T = T / ScaleFactor\n",
    "\n",
    "C = tf.Variable([0, 0.079999999999945434, 0.49999915892264074], dtype=tf.float64)\n",
    "Cx, Cy, Cz = C[0], C[1], C[2]\n",
    "\n",
    "E = tf.Variable([0.039999999999972717, 0.079999999999945434, -0.040000036913171277], dtype=tf.float64)\n",
    "Ex, Ey, Ez = E[0], E[1], E[2]\n",
    "\n",
    "Sx, Sy = S[0, :], S[1, :]\n",
    "Tx, Ty = T[0, :], T[1, :]\n",
    "\n",
    "lossX = -Ex*(Cx + Ez - Sx) + Ez*(Cz + Ex) + Tx*(Cx + Ez - Sx)\n",
    "lossY = -Ey*(Cx + Ez - Sx) + Ez*(-Cy + Ey + Sy) + Ty*(Cx + Ez - Sx)\n",
    "\n",
    "ForwardTx = (Cx*Ex - Cz*Ez - Ex*Sx)/(Cx + Ez - Sx)\n",
    "ForwardTy = (Ey*(Cx + Ez - Sx) - Ez*(-Cy + Ey + Sy))/(Cx + Ez - Sx)\n",
    "\n",
    "BackwardSx = (Cx*(Ex - Tx) - Ez*(Cz + Tx))/(Ex - Tx)\n",
    "BackwardSy = (Cy*Ex + Cz*Ey - Cy*Tx + Ey*Tx - Cz*Ty - Ex*Ty)/(Ex - Tx)\n",
    "\n",
    "#loss = tf.reduce_mean((BackwardSx - Sx) ** 2 +  (BackwardSy - Sy)**2)\n",
    "\n",
    "#loss = tf.reduce_max([tf.abs(ForwardTx - Tx), tf.abs(ForwardTy - Ty)])\n",
    "loss = tf.reduce_mean(lossX**2 + lossY**2)\n",
    "\n",
    "learning_rate = tf.Variable(0.5)\n",
    "optimizer = tf.train.GradientDescentOptimizer(learning_rate)\n",
    "\n",
    "train_op = optimizer.minimize(loss)"
   ]
  },
  {
   "cell_type": "code",
   "execution_count": 4,
   "metadata": {
    "collapsed": true
   },
   "outputs": [],
   "source": [
    "sess = tf.Session()\n",
    "sess.run(tf.global_variables_initializer())"
   ]
  },
  {
   "cell_type": "code",
   "execution_count": 5,
   "metadata": {},
   "outputs": [
    {
     "name": "stdout",
     "output_type": "stream",
     "text": [
      "loss in iteration 0: 1.06140693681e-07\n",
      "loss in iteration 1: 1.06140670578e-07\n",
      "loss in iteration 2: 1.06140670578e-07\n",
      "loss in iteration 3: 1.06140670578e-07\n",
      "loss in iteration 4: 1.06140670578e-07\n",
      "loss in iteration 5: 1.06140670578e-07\n",
      "loss in iteration 6: 1.06140670578e-07\n",
      "loss in iteration 7: 1.06140670578e-07\n"
     ]
    }
   ],
   "source": [
    "#global train\n",
    "\n",
    "for k in range(8):\n",
    "    iter_range = 20000\n",
    "    for i in range(iter_range):\n",
    "        loss_val,  _ = sess.run([loss, train_op])\n",
    "        if i == iter_range - 1:\n",
    "            print('loss in iteration %d:' % k, loss_val)\n",
    "    sess.run(learning_rate.assign(learning_rate / 2))"
   ]
  },
  {
   "cell_type": "code",
   "execution_count": 6,
   "metadata": {},
   "outputs": [
    {
     "name": "stdout",
     "output_type": "stream",
     "text": [
      "[array([ 0.009645,  0.031915,  0.031915,  0.009645]), array([ 0.009645,  0.03225 ,  0.03158 ,  0.009645])]\n",
      "[array([ 0.00715215,  0.06039214,  0.09974286,  0.15135785]), array([ 0.00716 ,  0.06039 ,  0.099745,  0.15135 ])]\n",
      "1.06140670578e-07\n"
     ]
    }
   ],
   "source": [
    "# validate forward inference\n",
    "print(sess.run([ForwardTx, Tx]))\n",
    "print(sess.run([ForwardTy, Ty]))\n",
    "print(sess.run(loss))"
   ]
  },
  {
   "cell_type": "code",
   "execution_count": 11,
   "metadata": {},
   "outputs": [
    {
     "data": {
      "text/plain": [
       "[array([ 0.27883144,  0.07262362,  0.17211595]),\n",
       " array([ 0.04027264,  0.08037242, -0.05411853])]"
      ]
     },
     "execution_count": 11,
     "metadata": {},
     "output_type": "execute_result"
    }
   ],
   "source": [
    "sess.run([C, E])"
   ]
  },
  {
   "cell_type": "code",
   "execution_count": 8,
   "metadata": {
    "scrolled": true
   },
   "outputs": [
    {
     "name": "stdout",
     "output_type": "stream",
     "text": [
      "[1.9592381471032017e-05]\n",
      "[0.0016141816866117032]\n"
     ]
    }
   ],
   "source": [
    "print(sess.run([tf.reduce_sum(BackwardSx-Sx)**2]))\n",
    "print(sess.run([tf.reduce_sum(BackwardSy-Sy)**2]))"
   ]
  },
  {
   "cell_type": "code",
   "execution_count": 7,
   "metadata": {
    "scrolled": true
   },
   "outputs": [
    {
     "name": "stdout",
     "output_type": "stream",
     "text": [
      "[array([ 0.6       ,  1.6574276 ,  1.54699873,  0.6       ]), array([ 0.6,  1.6,  1.6,  0.6])]\n",
      "[array([ 0.49994559,  0.52125865, -0.48108177, -0.49994559]), array([ 0.5,  0.5, -0.5, -0.5])]\n"
     ]
    }
   ],
   "source": [
    "print(sess.run([BackwardSx, Sx]))\n",
    "print(sess.run([BackwardSy, Sy]))"
   ]
  },
  {
   "cell_type": "code",
   "execution_count": 12,
   "metadata": {},
   "outputs": [
    {
     "data": {
      "text/plain": [
       "array([[ 0.009645,  0.03225 ,  0.03158 ,  0.009645],\n",
       "       [ 0.00716 ,  0.06039 ,  0.099745,  0.15135 ]])"
      ]
     },
     "execution_count": 12,
     "metadata": {},
     "output_type": "execute_result"
    }
   ],
   "source": [
    "sess.run(T)"
   ]
  },
  {
   "cell_type": "code",
   "execution_count": 15,
   "metadata": {},
   "outputs": [
    {
     "data": {
      "text/plain": [
       "2000.0000484463342"
      ]
     },
     "execution_count": 15,
     "metadata": {},
     "output_type": "execute_result"
    }
   ],
   "source": [
    "sess.run(ScaleFactor)"
   ]
  },
  {
   "cell_type": "code",
   "execution_count": 19,
   "metadata": {},
   "outputs": [
    {
     "data": {
      "text/plain": [
       "0.58815510116706626"
      ]
     },
     "execution_count": 19,
     "metadata": {},
     "output_type": "execute_result"
    }
   ],
   "source": [
    "sess.run(CameraOffset)"
   ]
  },
  {
   "cell_type": "code",
   "execution_count": 17,
   "metadata": {},
   "outputs": [
    {
     "data": {
      "text/plain": [
       "array([ 18.10446478,  63.9103124 ,  63.9103124 ,  18.10446478])"
      ]
     },
     "execution_count": 17,
     "metadata": {},
     "output_type": "execute_result"
    }
   ],
   "source": [
    "sess.run(ForwardTx * ScaleFactor)"
   ]
  },
  {
   "cell_type": "code",
   "execution_count": 18,
   "metadata": {},
   "outputs": [
    {
     "data": {
      "text/plain": [
       "array([  14.99758888,  120.70440606,  199.56728247,  301.99749223])"
      ]
     },
     "execution_count": 18,
     "metadata": {},
     "output_type": "execute_result"
    }
   ],
   "source": [
    "sess.run(ForwardTy * ScaleFactor)"
   ]
  },
  {
   "cell_type": "code",
   "execution_count": 20,
   "metadata": {},
   "outputs": [
    {
     "data": {
      "text/plain": [
       "array([[  19.29,   64.5 ,   63.16,   19.29],\n",
       "       [  14.32,  120.78,  199.49,  302.7 ]])"
      ]
     },
     "execution_count": 20,
     "metadata": {},
     "output_type": "execute_result"
    }
   ],
   "source": [
    "sess.run(T* ScaleFactor)"
   ]
  },
  {
   "cell_type": "code",
   "execution_count": 36,
   "metadata": {},
   "outputs": [
    {
     "data": {
      "text/plain": [
       "array([[ 0.09645,  0.3225 ,  0.3158 ,  0.09645],\n",
       "       [ 0.0716 ,  0.6039 ,  0.99745,  1.5135 ]])"
      ]
     },
     "execution_count": 36,
     "metadata": {},
     "output_type": "execute_result"
    }
   ],
   "source": [
    "target / 200"
   ]
  },
  {
   "cell_type": "code",
   "execution_count": 37,
   "metadata": {},
   "outputs": [
    {
     "data": {
      "text/plain": [
       "array([[ 0. ,  1. ,  1. ,  0. ],\n",
       "       [ 0.5,  0.5, -0.5, -0.5]])"
      ]
     },
     "execution_count": 37,
     "metadata": {},
     "output_type": "execute_result"
    }
   ],
   "source": [
    "source"
   ]
  },
  {
   "cell_type": "code",
   "execution_count": 10,
   "metadata": {},
   "outputs": [
    {
     "data": {
      "text/plain": [
       "[array([ 0.009645,  0.031915,  0.031915,  0.009645]),\n",
       " array([ 0.00715215,  0.06039214,  0.09974286,  0.15135785])]"
      ]
     },
     "execution_count": 10,
     "metadata": {},
     "output_type": "execute_result"
    }
   ],
   "source": [
    "sess.run([ForwardTx, ForwardTy])"
   ]
  },
  {
   "cell_type": "code",
   "execution_count": 15,
   "metadata": {},
   "outputs": [
    {
     "data": {
      "text/plain": [
       "[array([ 0.009645,  0.03225 ,  0.03158 ,  0.009645]),\n",
       " array([ 0.00716 ,  0.06039 ,  0.099745,  0.15135 ])]"
      ]
     },
     "execution_count": 15,
     "metadata": {},
     "output_type": "execute_result"
    }
   ],
   "source": [
    "sess.run([Tx, Ty])"
   ]
  },
  {
   "cell_type": "code",
   "execution_count": 9,
   "metadata": {},
   "outputs": [
    {
     "data": {
      "text/plain": [
       "0.59999999999999998"
      ]
     },
     "execution_count": 9,
     "metadata": {},
     "output_type": "execute_result"
    }
   ],
   "source": [
    "sess.run(CameraOffset)"
   ]
  },
  {
   "cell_type": "code",
   "execution_count": 11,
   "metadata": {},
   "outputs": [
    {
     "data": {
      "text/plain": [
       "array([[  19.29,   64.5 ,   63.16,   19.29],\n",
       "       [  14.32,  120.78,  199.49,  302.7 ]])"
      ]
     },
     "execution_count": 11,
     "metadata": {},
     "output_type": "execute_result"
    }
   ],
   "source": [
    "target"
   ]
  },
  {
   "cell_type": "code",
   "execution_count": null,
   "metadata": {
    "collapsed": true
   },
   "outputs": [],
   "source": []
  }
 ],
 "metadata": {
  "kernelspec": {
   "display_name": "Python 3",
   "language": "python",
   "name": "python3"
  },
  "language_info": {
   "codemirror_mode": {
    "name": "ipython",
    "version": 3
   },
   "file_extension": ".py",
   "mimetype": "text/x-python",
   "name": "python",
   "nbconvert_exporter": "python",
   "pygments_lexer": "ipython3",
   "version": "3.5.2"
  },
  "widgets": {
   "state": {},
   "version": "1.1.2"
  }
 },
 "nbformat": 4,
 "nbformat_minor": 2
}
